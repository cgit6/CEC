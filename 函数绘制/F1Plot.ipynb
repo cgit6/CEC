{
 "cells": [
  {
   "cell_type": "code",
   "execution_count": 3,
   "metadata": {},
   "outputs": [
    {
     "data": {
      "text/plain": [
       "<Figure size 640x480 with 0 Axes>"
      ]
     },
     "metadata": {},
     "output_type": "display_data"
    }
   ],
   "source": [
    "'''F1绘图函数'''\n",
    "%matplotlib inline\n",
    "import numpy as np\n",
    "from matplotlib import pyplot as plt\n",
    "from mpl_toolkits.mplot3d import Axes3D\n",
    "\n",
    "fig =plt.figure(1)\n",
    "ax=Axes3D(fig)\n",
    "x1 = np.arange(-10,10,0.2)\n",
    "x2 = np.arange(-10,10,0.2)\n",
    "X1,X2 = np.meshgrid(x1,x2)\n",
    "F=X1**2+X2**2\n",
    "# 繪製3D圖\n",
    "ax.plot_surface(X1,X2,F,rstride=1,cstride=1,cmap=plt.get_cmap(\"rainbow\"))\n",
    "\n",
    "plt.show()"
   ]
  }
 ],
 "metadata": {
  "kernelspec": {
   "display_name": "env1",
   "language": "python",
   "name": "python3"
  },
  "language_info": {
   "codemirror_mode": {
    "name": "ipython",
    "version": 3
   },
   "file_extension": ".py",
   "mimetype": "text/x-python",
   "name": "python",
   "nbconvert_exporter": "python",
   "pygments_lexer": "ipython3",
   "version": "3.9.13"
  },
  "orig_nbformat": 4,
  "vscode": {
   "interpreter": {
    "hash": "794bc639cfa8d250a3d1ea8036bbcb68e77a70f8e71b735e1e208a103fb8b335"
   }
  }
 },
 "nbformat": 4,
 "nbformat_minor": 2
}
